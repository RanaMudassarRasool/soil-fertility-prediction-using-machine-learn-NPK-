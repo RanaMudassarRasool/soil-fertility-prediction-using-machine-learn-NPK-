{
  "nbformat": 4,
  "nbformat_minor": 0,
  "metadata": {
    "colab": {
      "provenance": [],
      "authorship_tag": "ABX9TyPMnhQ5gWLzwNXJeDvpx8E6",
      "include_colab_link": true
    },
    "kernelspec": {
      "name": "python3",
      "display_name": "Python 3"
    },
    "language_info": {
      "name": "python"
    }
  },
  "cells": [
    {
      "cell_type": "markdown",
      "metadata": {
        "id": "view-in-github",
        "colab_type": "text"
      },
      "source": [
        "<a href=\"https://colab.research.google.com/github/RanaMudassarRasool/soil-fertility-prediction-using-machine-learn-NPK-/blob/main/soil_fertility_prediction_using_DEEP_learn_NPK.ipynb\" target=\"_parent\"><img src=\"https://colab.research.google.com/assets/colab-badge.svg\" alt=\"Open In Colab\"/></a>"
      ]
    },
    {
      "cell_type": "code",
      "execution_count": 1,
      "metadata": {
        "id": "4Jvg_Q-gUrHk"
      },
      "outputs": [],
      "source": [
        "import pandas as pd\n",
        "import numpy as np\n",
        "from sklearn.model_selection import train_test_split\n",
        "from sklearn.metrics import accuracy_score\n",
        "from tensorflow.keras.models import Sequential\n",
        "from tensorflow.keras.layers import Dense"
      ]
    },
    {
      "cell_type": "code",
      "source": [
        "# Load the dataset\n",
        "data = pd.read_csv('crop_recommendation.csv')"
      ],
      "metadata": {
        "id": "hWGZYLKpVD3W"
      },
      "execution_count": 3,
      "outputs": []
    },
    {
      "cell_type": "code",
      "source": [
        "# Separate input and output variables\n",
        "features = data[['N', 'P', 'K', 'temperature', 'humidity', 'ph', 'rainfall']]\n",
        "labels = data['label']"
      ],
      "metadata": {
        "id": "Kcwhmt_ZVGrY"
      },
      "execution_count": 4,
      "outputs": []
    },
    {
      "cell_type": "code",
      "source": [
        "# One-hot encode the labels\n",
        "labels_onehot = pd.get_dummies(labels)"
      ],
      "metadata": {
        "id": "LRp0ERI3VNib"
      },
      "execution_count": 6,
      "outputs": []
    },
    {
      "cell_type": "code",
      "source": [
        "# Split the data into training and testing sets\n",
        "X_train, X_test, y_train, y_test = train_test_split(features, labels_onehot, test_size=0.2, random_state=42)\n"
      ],
      "metadata": {
        "id": "Xk1SDmyEVcya"
      },
      "execution_count": 7,
      "outputs": []
    },
    {
      "cell_type": "code",
      "source": [
        "# Create the deep learning model\n",
        "model = Sequential()\n",
        "model.add(Dense(64, activation='relu', input_shape=(7,)))\n",
        "model.add(Dense(32, activation='relu'))\n",
        "model.add(Dense(22, activation='softmax'))"
      ],
      "metadata": {
        "id": "KUisdHH9V1zj"
      },
      "execution_count": 8,
      "outputs": []
    },
    {
      "cell_type": "code",
      "source": [
        "# Compile the model\n",
        "model.compile(loss='categorical_crossentropy', optimizer='adam', metrics=['accuracy'])\n"
      ],
      "metadata": {
        "id": "gOrq1pbQV6h8"
      },
      "execution_count": 9,
      "outputs": []
    },
    {
      "cell_type": "code",
      "source": [
        "# Train the model\n",
        "model.fit(X_train, y_train, epochs=10, batch_size=32, validation_data=(X_test, y_test))\n"
      ],
      "metadata": {
        "colab": {
          "base_uri": "https://localhost:8080/"
        },
        "id": "DKuEWNSBWBlm",
        "outputId": "fde9ca1e-cb91-4b30-c3e6-f7b358d2bb6f"
      },
      "execution_count": 10,
      "outputs": [
        {
          "output_type": "stream",
          "name": "stdout",
          "text": [
            "Epoch 1/10\n",
            "55/55 [==============================] - 1s 6ms/step - loss: 13.8419 - accuracy: 0.1063 - val_loss: 2.9434 - val_accuracy: 0.2591\n",
            "Epoch 2/10\n",
            "55/55 [==============================] - 0s 2ms/step - loss: 1.5844 - accuracy: 0.5778 - val_loss: 0.8747 - val_accuracy: 0.7341\n",
            "Epoch 3/10\n",
            "55/55 [==============================] - 0s 3ms/step - loss: 0.6372 - accuracy: 0.8108 - val_loss: 0.5459 - val_accuracy: 0.8341\n",
            "Epoch 4/10\n",
            "55/55 [==============================] - 0s 2ms/step - loss: 0.4301 - accuracy: 0.8710 - val_loss: 0.4383 - val_accuracy: 0.8568\n",
            "Epoch 5/10\n",
            "55/55 [==============================] - 0s 2ms/step - loss: 0.3332 - accuracy: 0.9062 - val_loss: 0.3539 - val_accuracy: 0.8795\n",
            "Epoch 6/10\n",
            "55/55 [==============================] - 0s 3ms/step - loss: 0.2727 - accuracy: 0.9256 - val_loss: 0.2837 - val_accuracy: 0.9136\n",
            "Epoch 7/10\n",
            "55/55 [==============================] - 0s 3ms/step - loss: 0.2564 - accuracy: 0.9273 - val_loss: 0.3028 - val_accuracy: 0.8955\n",
            "Epoch 8/10\n",
            "55/55 [==============================] - 0s 2ms/step - loss: 0.2192 - accuracy: 0.9358 - val_loss: 0.2392 - val_accuracy: 0.9159\n",
            "Epoch 9/10\n",
            "55/55 [==============================] - 0s 3ms/step - loss: 0.2020 - accuracy: 0.9386 - val_loss: 0.2502 - val_accuracy: 0.9182\n",
            "Epoch 10/10\n",
            "55/55 [==============================] - 0s 3ms/step - loss: 0.1888 - accuracy: 0.9415 - val_loss: 0.2377 - val_accuracy: 0.9227\n"
          ]
        },
        {
          "output_type": "execute_result",
          "data": {
            "text/plain": [
              "<keras.src.callbacks.History at 0x7fd5f9a52ec0>"
            ]
          },
          "metadata": {},
          "execution_count": 10
        }
      ]
    },
    {
      "cell_type": "code",
      "source": [
        "# Evaluate the model\n",
        "y_pred = model.predict(X_test)\n",
        "y_pred_class = np.argmax(y_pred, axis=1)\n",
        "y_test_class = np.argmax(y_test, axis=1)\n",
        "accuracy = accuracy_score(y_test_class, y_pred_class)\n",
        "print('Model accuracy:', accuracy)"
      ],
      "metadata": {
        "colab": {
          "base_uri": "https://localhost:8080/"
        },
        "id": "bKQbRtNIWNQw",
        "outputId": "fb2652d2-8763-4ce7-c28e-908ebe379a03"
      },
      "execution_count": 11,
      "outputs": [
        {
          "output_type": "stream",
          "name": "stdout",
          "text": [
            "14/14 [==============================] - 0s 4ms/step\n",
            "Model accuracy: 0.9227272727272727\n"
          ]
        }
      ]
    },
    {
      "cell_type": "code",
      "source": [
        "# Save the model\n",
        "model.save('crop_recommendation_model.h5')"
      ],
      "metadata": {
        "colab": {
          "base_uri": "https://localhost:8080/"
        },
        "id": "Pnsiud4uWR48",
        "outputId": "cbc6ce45-f6f2-455c-c4fe-60b3544d9d50"
      },
      "execution_count": 12,
      "outputs": [
        {
          "output_type": "stream",
          "name": "stderr",
          "text": [
            "/usr/local/lib/python3.10/dist-packages/keras/src/engine/training.py:3103: UserWarning: You are saving your model as an HDF5 file via `model.save()`. This file format is considered legacy. We recommend using instead the native Keras format, e.g. `model.save('my_model.keras')`.\n",
            "  saving_api.save_model(\n"
          ]
        }
      ]
    },
    {
      "cell_type": "code",
      "source": [
        "# Load the trained model\n",
        "from tensorflow.keras.models import load_model\n",
        "model = load_model('crop_recommendation_model.h5')\n"
      ],
      "metadata": {
        "id": "Wtj1OQG4WlGU"
      },
      "execution_count": 13,
      "outputs": []
    },
    {
      "cell_type": "code",
      "source": [
        "# Define a new input sample\n",
        "new_input = np.array([[40, 20, 30, 25, 60, 7, 100]])  # example values for N, P, K, temperature, humidity, ph, rainfall\n"
      ],
      "metadata": {
        "id": "9mhi47RYWpW6"
      },
      "execution_count": 14,
      "outputs": []
    },
    {
      "cell_type": "code",
      "source": [
        "# Make predictions on the new input\n",
        "predictions = model.predict(new_input)\n",
        "\n",
        "# Get the predicted label\n",
        "predicted_label = np.argmax(predictions)"
      ],
      "metadata": {
        "colab": {
          "base_uri": "https://localhost:8080/"
        },
        "id": "QvUtKdWkWu6J",
        "outputId": "b75de7db-5229-4516-cef7-b75a593dfafd"
      },
      "execution_count": 15,
      "outputs": [
        {
          "output_type": "stream",
          "name": "stdout",
          "text": [
            "1/1 [==============================] - 0s 56ms/step\n"
          ]
        }
      ]
    },
    {
      "cell_type": "code",
      "source": [
        "# Print the predicted label\n",
        "print('Predicted label:', predicted_label)"
      ],
      "metadata": {
        "colab": {
          "base_uri": "https://localhost:8080/"
        },
        "id": "c9pb9hasW1MV",
        "outputId": "72e60664-b8fa-43c1-faba-f1c50808e3cb"
      },
      "execution_count": 16,
      "outputs": [
        {
          "output_type": "stream",
          "name": "stdout",
          "text": [
            "Predicted label: 17\n"
          ]
        }
      ]
    },
    {
      "cell_type": "code",
      "source": [
        "# Convert the predicted label to the original label name\n",
        "label_names = list(data['label'].unique())\n",
        "predicted_label_name = label_names[predicted_label]\n",
        "print('Predicted label name:', predicted_label_name)"
      ],
      "metadata": {
        "colab": {
          "base_uri": "https://localhost:8080/"
        },
        "id": "J4RPTFQ7XAOf",
        "outputId": "c026467c-4b8a-4e9b-d005-10052d30d6e0"
      },
      "execution_count": 24,
      "outputs": [
        {
          "output_type": "stream",
          "name": "stdout",
          "text": [
            "Predicted label name: papaya\n"
          ]
        }
      ]
    }
  ]
}